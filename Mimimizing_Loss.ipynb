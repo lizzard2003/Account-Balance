{
  "cells": [
    {
      "cell_type": "markdown",
      "metadata": {
        "id": "view-in-github",
        "colab_type": "text"
      },
      "source": [
        "<a href=\"https://colab.research.google.com/github/lizzard2003/Account-Balance/blob/main/Mimimizing_Loss.ipynb\" target=\"_parent\"><img src=\"https://colab.research.google.com/assets/colab-badge.svg\" alt=\"Open In Colab\"/></a>"
      ]
    },
    {
      "cell_type": "code",
      "execution_count": 1,
      "metadata": {
        "id": "gtmQDB6EjReV"
      },
      "outputs": [],
      "source": [
        "# First import the functions we will need\n",
        "import sys\n",
        "\n",
        "import numpy as np\n",
        "import tensorflow as tf\n",
        "import matplotlib.pyplot as plt"
      ]
    },
    {
      "cell_type": "code",
      "execution_count": 2,
      "metadata": {
        "id": "UnZ741mzaNI9"
      },
      "outputs": [],
      "source": [
        "# This script requires TensorFlow 2 and Python 3.\n",
        "if tf.__version__.split('.')[0] != '2':\n",
        "    raise Exception((f\"The script is developed and tested for tensorflow 2. \"\n",
        "                     f\"Current version: {tf.__version__}\"))\n",
        "\n",
        "if sys.version_info.major < 3:\n",
        "    raise Exception((f\"The script is developed and tested for Python 3. \"\n",
        "                     f\"Current version: {sys.version_info.major}\"))\n"
      ]
    },
    {
      "cell_type": "markdown",
      "metadata": {
        "id": "9O5-58WYokl3"
      },
      "source": [
        "# GradientTape\n",
        "\n",
        "The Calculus is managed by a TensorFlow Gradient Tape. You can learn more about the gradient tape at https://www.tensorflow.org/api_docs/python/tf/GradientTape, and we will discuss it later in the course."
      ]
    },
    {
      "cell_type": "code",
      "execution_count": 28,
      "metadata": {
        "id": "JdhgbGE2j02L"
      },
      "outputs": [],
      "source": [
        "# Define our initial guess\n",
        "INITIAL_W = 1.0\n",
        "INITIAL_B = 2.0\n",
        "\n",
        "# Define our loss function\n",
        "def loss(predicted_y, target_y):\n",
        "  return tf.reduce_mean(tf.square(predicted_y - target_y))\n",
        "\n",
        "# Define our training procedure\n",
        "def train(model, inputs, outputs, learning_rate):\n",
        "  with tf.GradientTape() as t:\n",
        "    current_loss = loss(model(inputs), outputs)\n",
        "    # Here is where you differentiate the model values with respect to the loss function\n",
        "    dw, db = t.gradient(current_loss, [model.w, model.b])\n",
        "    # And here is where you update the model values based on the learning rate chosen\n",
        "    model.w.assign_sub(learning_rate * dw)\n",
        "    model.b.assign_sub(learning_rate * db)\n",
        "    return current_loss\n",
        "\n",
        "# Define our simple linear regression model\n",
        "class Model(object):\n",
        "  def __init__(self):\n",
        "    # Initialize the weights\n",
        "    self.w = tf.Variable(INITIAL_W)\n",
        "    self.b = tf.Variable(INITIAL_B)\n",
        "\n",
        "  def __call__(self, x):\n",
        "    return self.w * x + self.b"
      ]
    },
    {
      "cell_type": "markdown",
      "metadata": {
        "id": "qRsu_8ItaNJB"
      },
      "source": [
        "### Train our model"
      ]
    },
    {
      "cell_type": "code",
      "execution_count": 31,
      "metadata": {
        "id": "8akmDCoAjgak",
        "colab": {
          "base_uri": "https://localhost:8080/"
        },
        "outputId": "a3d02b8f-0aff-431e-d14b-12603571d5c3"
      },
      "outputs": [
        {
          "output_type": "stream",
          "name": "stdout",
          "text": [
            "Epoch  0: w=1.00 b=2.00, loss=5.16667\n",
            "Epoch  1: w=1.13 b=1.70, loss=4.15074\n",
            "Epoch  2: w=1.22 b=1.42, loss=3.33790\n",
            "Epoch  3: w=1.30 b=1.17, loss=2.68429\n",
            "Epoch  4: w=1.37 b=0.95, loss=2.15867\n",
            "Epoch  5: w=1.44 b=0.75, loss=1.73597\n",
            "Epoch  6: w=1.50 b=0.57, loss=1.39604\n",
            "Epoch  7: w=1.55 b=0.40, loss=1.12268\n",
            "Epoch  8: w=1.59 b=0.26, loss=0.90284\n",
            "Epoch  9: w=1.64 b=0.13, loss=0.72605\n",
            "Epoch 10: w=1.67 b=0.01, loss=0.58388\n",
            "Epoch 11: w=1.71 b=-0.09, loss=0.46955\n",
            "Epoch 12: w=1.74 b=-0.19, loss=0.37760\n",
            "Epoch 13: w=1.76 b=-0.27, loss=0.30366\n",
            "Epoch 14: w=1.79 b=-0.35, loss=0.24420\n",
            "Epoch 15: w=1.81 b=-0.41, loss=0.19638\n",
            "Epoch 16: w=1.83 b=-0.47, loss=0.15793\n",
            "Epoch 17: w=1.85 b=-0.53, loss=0.12700\n",
            "Epoch 18: w=1.86 b=-0.58, loss=0.10214\n",
            "Epoch 19: w=1.88 b=-0.62, loss=0.08214\n",
            "Epoch 20: w=1.89 b=-0.66, loss=0.06605\n",
            "Epoch 21: w=1.90 b=-0.69, loss=0.05312\n",
            "Epoch 22: w=1.91 b=-0.73, loss=0.04272\n",
            "Epoch 23: w=1.92 b=-0.75, loss=0.03435\n",
            "Epoch 24: w=1.93 b=-0.78, loss=0.02763\n",
            "Epoch 25: w=1.94 b=-0.80, loss=0.02222\n",
            "Epoch 26: w=1.94 b=-0.82, loss=0.01787\n",
            "Epoch 27: w=1.95 b=-0.84, loss=0.01437\n",
            "Epoch 28: w=1.95 b=-0.86, loss=0.01155\n",
            "Epoch 29: w=1.96 b=-0.87, loss=0.00929\n",
            "Epoch 30: w=1.96 b=-0.89, loss=0.00747\n",
            "Epoch 31: w=1.97 b=-0.90, loss=0.00601\n",
            "Epoch 32: w=1.97 b=-0.91, loss=0.00483\n",
            "Epoch 33: w=1.97 b=-0.92, loss=0.00389\n",
            "Epoch 34: w=1.98 b=-0.93, loss=0.00313\n",
            "Epoch 35: w=1.98 b=-0.93, loss=0.00251\n",
            "Epoch 36: w=1.98 b=-0.94, loss=0.00202\n",
            "Epoch 37: w=1.98 b=-0.95, loss=0.00163\n",
            "Epoch 38: w=1.98 b=-0.95, loss=0.00131\n",
            "Epoch 39: w=1.99 b=-0.96, loss=0.00105\n",
            "Epoch 40: w=1.99 b=-0.96, loss=0.00085\n",
            "Epoch 41: w=1.99 b=-0.97, loss=0.00068\n",
            "Epoch 42: w=1.99 b=-0.97, loss=0.00055\n",
            "Epoch 43: w=1.99 b=-0.97, loss=0.00044\n",
            "Epoch 44: w=1.99 b=-0.98, loss=0.00035\n",
            "Epoch 45: w=1.99 b=-0.98, loss=0.00028\n",
            "Epoch 46: w=1.99 b=-0.98, loss=0.00023\n",
            "Epoch 47: w=1.99 b=-0.98, loss=0.00018\n",
            "Epoch 48: w=1.99 b=-0.98, loss=0.00015\n",
            "Epoch 49: w=2.00 b=-0.99, loss=0.00012\n"
          ]
        }
      ],
      "source": [
        "# Define our input data and learning rate\n",
        "xs = [-1.0, 0.0, 1.0, 2.0, 3.0, 4.0]\n",
        "ys = [-3.0, -1.0, 1.0, 3.0, 5.0, 7.0]\n",
        "LEARNING_RATE=0.10\n",
        "\n",
        "# Instantiate our model\n",
        "model = Model()\n",
        "\n",
        "# Collect the history of w-values and b-values to plot later\n",
        "list_w, list_b = [], []\n",
        "epochs = range(50)\n",
        "losses = []\n",
        "for epoch in epochs:\n",
        "  list_w.append(model.w.numpy())\n",
        "  list_b.append(model.b.numpy())\n",
        "  current_loss = train(model, xs, ys, learning_rate=LEARNING_RATE)\n",
        "  losses.append(current_loss)\n",
        "  print(f\"Epoch {epoch:2d}: w={list_w[-1]:1.2f} b={list_b[-1]:1.2f}, \"\n",
        "        f\"loss={current_loss:2.5f}\")"
      ]
    },
    {
      "cell_type": "markdown",
      "metadata": {
        "id": "SRQdwJdoaNJD"
      },
      "source": [
        "### Plot our trained values over time"
      ]
    },
    {
      "cell_type": "code",
      "execution_count": 32,
      "metadata": {
        "id": "HGgb5grSk8Ax",
        "colab": {
          "base_uri": "https://localhost:8080/",
          "height": 430
        },
        "outputId": "4f1cf9c2-4f65-4973-b0af-331184744f9e"
      },
      "outputs": [
        {
          "output_type": "display_data",
          "data": {
            "text/plain": [
              "<Figure size 640x480 with 1 Axes>"
            ],
            "image/png": "[encoded data removed]"
          },
          "metadata": {}
        }
      ],
      "source": [
        "# Plot the w-values and b-values for each training Epoch against the true values\n",
        "TRUE_w = 2.0\n",
        "TRUE_b = -1.0\n",
        "plt.plot(epochs, list_w, 'r', epochs, list_b, 'b')\n",
        "plt.plot([TRUE_w] * len(epochs), 'r--', [TRUE_b] * len(epochs), 'b--')\n",
        "plt.legend(['w', 'b', 'True w', 'True b'])\n",
        "plt.show()"
      ]
    }
  ],
  "metadata": {
    "colab": {
      "provenance": [],
      "include_colab_link": true
    },
    "kernelspec": {
      "display_name": "Python 3",
      "language": "python",
      "name": "python3"
    },
    "language_info": {
      "codemirror_mode": {
        "name": "ipython",
        "version": 3
      },
      "file_extension": ".py",
      "mimetype": "text/x-python",
      "name": "python",
      "nbconvert_exporter": "python",
      "pygments_lexer": "ipython3",
      "version": "3.10.11"
    }
  },
  "nbformat": 4,
  "nbformat_minor": 0
}